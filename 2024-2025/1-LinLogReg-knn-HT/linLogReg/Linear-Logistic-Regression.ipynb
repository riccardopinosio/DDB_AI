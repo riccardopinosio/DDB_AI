{
 "cells": [
  {
   "cell_type": "code",
   "execution_count": 2,
   "metadata": {},
   "outputs": [],
   "source": [
    "# Importing the basic libraries\n",
    "import pandas as pd\n",
    "import seaborn as sns\n",
    "import matplotlib.pyplot as plt \n",
    "import numpy as np"
   ]
  },
  {
   "cell_type": "markdown",
   "metadata": {},
   "source": [
    "### Dataset\n",
    "The insurance dataset contains details of individuals from the United States with following characteristics in different columns:\n",
    "- *age*: age \n",
    "- *sex*: gender\n",
    "- *bmi*: body mass index\n",
    "- *children*: number of children\n",
    "- *smoker*: smoker or not\n",
    "- *region*: which region of USA they belong to \n",
    "- *charged*: insurance claim amount\n",
    "- *insured*: if the individual will get an insurance or not\n",
    "\n",
    "For insurance companies it is very important to to know beforehand how much claim can be expected from their customers, and based on that premiums are typically estimated they want to charge. The other important decicion these companies need to make is: should they accept insurance applications from new customers or not. \n",
    "Therefore, following are the two predictive modelling tasks we would like to perform:\n",
    "1. Build a model using linear regression to predict insurance claim amount of individuals\n",
    "2. Build a model using logistic regression to predict if an individual will be insured or not"
   ]
  },
  {
   "cell_type": "markdown",
   "metadata": {},
   "source": [
    "## 1.  *Linear regression* model to predict insurance claim amount of individuals"
   ]
  },
  {
   "cell_type": "markdown",
   "metadata": {},
   "source": [
    "### 1.1 Exploratory data analysis\n",
    "The first step in the ML pipeline is to do through EDA to understand the data, remove and if required impute NaNs, check outliers, find correlations among variables, remove highly correlated variables, etc. "
   ]
  },
  {
   "cell_type": "code",
   "execution_count": 3,
   "metadata": {},
   "outputs": [
    {
     "name": "stdout",
     "output_type": "stream",
     "text": [
      "Original length of dataframe: 1338\n"
     ]
    },
    {
     "data": {
      "text/html": [
       "<div>\n",
       "<style scoped>\n",
       "    .dataframe tbody tr th:only-of-type {\n",
       "        vertical-align: middle;\n",
       "    }\n",
       "\n",
       "    .dataframe tbody tr th {\n",
       "        vertical-align: top;\n",
       "    }\n",
       "\n",
       "    .dataframe thead th {\n",
       "        text-align: right;\n",
       "    }\n",
       "</style>\n",
       "<table border=\"1\" class=\"dataframe\">\n",
       "  <thead>\n",
       "    <tr style=\"text-align: right;\">\n",
       "      <th></th>\n",
       "      <th>age</th>\n",
       "      <th>sex</th>\n",
       "      <th>bmi</th>\n",
       "      <th>children</th>\n",
       "      <th>smoker</th>\n",
       "      <th>region</th>\n",
       "      <th>charges</th>\n",
       "      <th>insured</th>\n",
       "    </tr>\n",
       "  </thead>\n",
       "  <tbody>\n",
       "    <tr>\n",
       "      <th>0</th>\n",
       "      <td>19</td>\n",
       "      <td>female</td>\n",
       "      <td>27.900</td>\n",
       "      <td>0</td>\n",
       "      <td>yes</td>\n",
       "      <td>southwest</td>\n",
       "      <td>16884.92400</td>\n",
       "      <td>1</td>\n",
       "    </tr>\n",
       "    <tr>\n",
       "      <th>1</th>\n",
       "      <td>18</td>\n",
       "      <td>male</td>\n",
       "      <td>33.770</td>\n",
       "      <td>1</td>\n",
       "      <td>no</td>\n",
       "      <td>southeast</td>\n",
       "      <td>1725.55230</td>\n",
       "      <td>0</td>\n",
       "    </tr>\n",
       "    <tr>\n",
       "      <th>2</th>\n",
       "      <td>28</td>\n",
       "      <td>male</td>\n",
       "      <td>33.000</td>\n",
       "      <td>3</td>\n",
       "      <td>no</td>\n",
       "      <td>southeast</td>\n",
       "      <td>4449.46200</td>\n",
       "      <td>0</td>\n",
       "    </tr>\n",
       "    <tr>\n",
       "      <th>3</th>\n",
       "      <td>33</td>\n",
       "      <td>male</td>\n",
       "      <td>22.705</td>\n",
       "      <td>0</td>\n",
       "      <td>no</td>\n",
       "      <td>northwest</td>\n",
       "      <td>21984.47061</td>\n",
       "      <td>1</td>\n",
       "    </tr>\n",
       "    <tr>\n",
       "      <th>4</th>\n",
       "      <td>32</td>\n",
       "      <td>male</td>\n",
       "      <td>28.880</td>\n",
       "      <td>0</td>\n",
       "      <td>no</td>\n",
       "      <td>northwest</td>\n",
       "      <td>3866.85520</td>\n",
       "      <td>0</td>\n",
       "    </tr>\n",
       "  </tbody>\n",
       "</table>\n",
       "</div>"
      ],
      "text/plain": [
       "   age     sex     bmi  children smoker     region      charges  insured\n",
       "0   19  female  27.900         0    yes  southwest  16884.92400        1\n",
       "1   18    male  33.770         1     no  southeast   1725.55230        0\n",
       "2   28    male  33.000         3     no  southeast   4449.46200        0\n",
       "3   33    male  22.705         0     no  northwest  21984.47061        1\n",
       "4   32    male  28.880         0     no  northwest   3866.85520        0"
      ]
     },
     "execution_count": 3,
     "metadata": {},
     "output_type": "execute_result"
    }
   ],
   "source": [
    "#Reading the data\n",
    "df = pd.read_csv(\"../../datasets/insurance.csv\")\n",
    "print('Original length of dataframe:', len(df))\n",
    "df.head()"
   ]
  },
  {
   "cell_type": "code",
   "execution_count": 315,
   "metadata": {},
   "outputs": [
    {
     "name": "stdout",
     "output_type": "stream",
     "text": [
      "Printing total number of NaNs in the dataframe, 0\n"
     ]
    }
   ],
   "source": [
    "# Checking Nans and if required removing them\n",
    "print('Printing total number of NaNs in the dataframe,', df.isnull().sum().sum())"
   ]
  },
  {
   "cell_type": "code",
   "execution_count": 316,
   "metadata": {},
   "outputs": [
    {
     "data": {
      "text/html": [
       "<div>\n",
       "<style scoped>\n",
       "    .dataframe tbody tr th:only-of-type {\n",
       "        vertical-align: middle;\n",
       "    }\n",
       "\n",
       "    .dataframe tbody tr th {\n",
       "        vertical-align: top;\n",
       "    }\n",
       "\n",
       "    .dataframe thead th {\n",
       "        text-align: right;\n",
       "    }\n",
       "</style>\n",
       "<table border=\"1\" class=\"dataframe\">\n",
       "  <thead>\n",
       "    <tr style=\"text-align: right;\">\n",
       "      <th></th>\n",
       "      <th>age</th>\n",
       "      <th>bmi</th>\n",
       "      <th>children</th>\n",
       "      <th>charges</th>\n",
       "      <th>insured</th>\n",
       "    </tr>\n",
       "  </thead>\n",
       "  <tbody>\n",
       "    <tr>\n",
       "      <th>count</th>\n",
       "      <td>1338.000000</td>\n",
       "      <td>1338.000000</td>\n",
       "      <td>1338.000000</td>\n",
       "      <td>1338.000000</td>\n",
       "      <td>1338.000000</td>\n",
       "    </tr>\n",
       "    <tr>\n",
       "      <th>mean</th>\n",
       "      <td>39.207025</td>\n",
       "      <td>30.663397</td>\n",
       "      <td>1.094918</td>\n",
       "      <td>13270.422265</td>\n",
       "      <td>0.679372</td>\n",
       "    </tr>\n",
       "    <tr>\n",
       "      <th>std</th>\n",
       "      <td>14.049960</td>\n",
       "      <td>6.098187</td>\n",
       "      <td>1.205493</td>\n",
       "      <td>12110.011237</td>\n",
       "      <td>0.466892</td>\n",
       "    </tr>\n",
       "    <tr>\n",
       "      <th>min</th>\n",
       "      <td>18.000000</td>\n",
       "      <td>15.960000</td>\n",
       "      <td>0.000000</td>\n",
       "      <td>1121.873900</td>\n",
       "      <td>0.000000</td>\n",
       "    </tr>\n",
       "    <tr>\n",
       "      <th>25%</th>\n",
       "      <td>27.000000</td>\n",
       "      <td>26.296250</td>\n",
       "      <td>0.000000</td>\n",
       "      <td>4740.287150</td>\n",
       "      <td>0.000000</td>\n",
       "    </tr>\n",
       "    <tr>\n",
       "      <th>50%</th>\n",
       "      <td>39.000000</td>\n",
       "      <td>30.400000</td>\n",
       "      <td>1.000000</td>\n",
       "      <td>9382.033000</td>\n",
       "      <td>1.000000</td>\n",
       "    </tr>\n",
       "    <tr>\n",
       "      <th>75%</th>\n",
       "      <td>51.000000</td>\n",
       "      <td>34.693750</td>\n",
       "      <td>2.000000</td>\n",
       "      <td>16639.912515</td>\n",
       "      <td>1.000000</td>\n",
       "    </tr>\n",
       "    <tr>\n",
       "      <th>max</th>\n",
       "      <td>64.000000</td>\n",
       "      <td>53.130000</td>\n",
       "      <td>5.000000</td>\n",
       "      <td>63770.428010</td>\n",
       "      <td>1.000000</td>\n",
       "    </tr>\n",
       "  </tbody>\n",
       "</table>\n",
       "</div>"
      ],
      "text/plain": [
       "               age          bmi     children       charges      insured\n",
       "count  1338.000000  1338.000000  1338.000000   1338.000000  1338.000000\n",
       "mean     39.207025    30.663397     1.094918  13270.422265     0.679372\n",
       "std      14.049960     6.098187     1.205493  12110.011237     0.466892\n",
       "min      18.000000    15.960000     0.000000   1121.873900     0.000000\n",
       "25%      27.000000    26.296250     0.000000   4740.287150     0.000000\n",
       "50%      39.000000    30.400000     1.000000   9382.033000     1.000000\n",
       "75%      51.000000    34.693750     2.000000  16639.912515     1.000000\n",
       "max      64.000000    53.130000     5.000000  63770.428010     1.000000"
      ]
     },
     "execution_count": 316,
     "metadata": {},
     "output_type": "execute_result"
    }
   ],
   "source": [
    "# preliminary descriptive statistics\n",
    "df.describe()"
   ]
  },
  {
   "cell_type": "markdown",
   "metadata": {},
   "source": [
    "#### 1.1a) Basic visual plots"
   ]
  },
  {
   "cell_type": "code",
   "execution_count": 346,
   "metadata": {},
   "outputs": [
    {
     "data": {
      "image/png": "[encoded data removed]",
      "text/plain": [
       "<Figure size 1250x1000 with 7 Axes>"
      ]
     },
     "metadata": {
      "needs_background": "light"
     },
     "output_type": "display_data"
    }
   ],
   "source": [
    "import matplotlib.gridspec as gridspec\n",
    "gs = gridspec.GridSpec(3,3)\n",
    "fig = plt.figure(figsize=(12.5, 10), dpi=100)\n",
    "ax1=fig.add_subplot(gs[0,:])\n",
    "ax2=fig.add_subplot(gs[1,0])\n",
    "ax3=fig.add_subplot(gs[1,1])\n",
    "ax4=fig.add_subplot(gs[1,2])\n",
    "ax5=fig.add_subplot(gs[2,0])\n",
    "ax6=fig.add_subplot(gs[2,1])\n",
    "ax7=fig.add_subplot(gs[2,2])\n",
    "\n",
    "# Histogram plot of charges\n",
    "ax1.hist(df['charges'], bins = 20, facecolor = 'pink', edgecolor = 'k')\n",
    "ax1.set_title('Insurance claim ($)')\n",
    "\n",
    "# Histogram plot of age\n",
    "ax2.hist(df['age'], bins = 20, facecolor = 'pink', edgecolor = 'k')\n",
    "ax2.set_title('Age (years)')\n",
    "\n",
    "# Histogram plot of sex\n",
    "ax3.hist(df['sex'], bins = 20, facecolor = 'pink', edgecolor = 'k')\n",
    "ax3.set_title('Gender')\n",
    "\n",
    "# Histogram plot of bmi\n",
    "ax4.hist(df['bmi'], bins = 20, facecolor = 'pink', edgecolor = 'k')\n",
    "ax4.set_title('bmi')\n",
    "\n",
    "# Histogram plot of children\n",
    "ax5.hist(df['children'], bins = 20, facecolor = 'pink', edgecolor = 'k')\n",
    "ax5.set_title('Number of children')\n",
    "\n",
    "# Histogram plot of smoker\n",
    "ax6.hist(df['smoker'], bins = 20, facecolor = 'pink', edgecolor = 'k')\n",
    "ax6.set_title('Smoker')\n",
    "\n",
    "# Histogram plot of region\n",
    "ax7.hist(df['region'], bins = 20, facecolor = 'pink', edgecolor = 'k')\n",
    "ax7.set_title('Region')\n",
    "\n",
    "plt.show()"
   ]
  },
  {
   "cell_type": "code",
   "execution_count": 318,
   "metadata": {},
   "outputs": [
    {
     "name": "stdout",
     "output_type": "stream",
     "text": [
      "Number of insurance claims greater 55000 $ is 5\n",
      "Individuals with bmi greater 40 is 91\n",
      "Individuals withless than equal to 3 children 1295\n"
     ]
    }
   ],
   "source": [
    "# Getting some basic statistics\n",
    "claim_55000 = len(df[df['charges'] > 55000])\n",
    "print('Number of insurance claims greater 55000 $ is', claim_55000)\n",
    "bmi_40= len(df[df['bmi'] > 40])\n",
    "print('Individuals with bmi greater 40 is', bmi_40)\n",
    "child_3= len(df[df['children'] <= 3])\n",
    "print('Individuals withless than equal to 3 children', child_3)"
   ]
  },
  {
   "cell_type": "markdown",
   "metadata": {},
   "source": [
    "From the plot above we can see the following:\n",
    "- there are 5 insurance claims > 55000$\n",
    "- the age is almost equal distrubted between 20-65 years\n",
    "- the gender of individuals are equally distributed\n",
    "- there are 91 individuals with bmi > 50, which is way above the average BMI of USA, however will we keep these data\n",
    "- most individuals (1295) have $\\leq 3$ children \n",
    "- data has more many more non- smokers than smokers\n",
    "- number of individuals from different regions are also equally distributed"
   ]
  },
  {
   "cell_type": "markdown",
   "metadata": {},
   "source": [
    "##### 1.1b) Correlation analysis\n",
    "For this we will first check which feature variables are correlated to the target variable. Note that we have both continuous and categorical feature variables, and the target variable is a continuous variable. Therefore, we will have to use different correlation methods, based on the nature of the variables.\n",
    "- continuous <-> continuous -> Pearson's linear correlation\n",
    "- ordinal <-> ordinal -> Spearman's rank correlation for understanding montonic relationships. Can also be used for continuous variables to study non linear associations.  \n",
    "- nominal <-> nomial -> Cramer's V test \n",
    "- nominal <-> continuous -> t-tests/ANOVA/Kruskal-Wallis H-test\n",
    "\n",
    "**NOTE:** The list above is not exhaustive, there are more methods to calculate correlation/association among variables. You are expected to research on them based on the nature of the datatset."
   ]
  },
  {
   "cell_type": "code",
   "execution_count": 319,
   "metadata": {},
   "outputs": [],
   "source": [
    "# defining the continuous and categorical feature variables\n",
    "cont_var = ['age', 'bmi', 'children', 'charges']\n",
    "cont_features = ['age', 'bmi', 'children']\n",
    "nominal_var = ['sex', 'smoker', 'region']"
   ]
  },
  {
   "cell_type": "code",
   "execution_count": 320,
   "metadata": {},
   "outputs": [
    {
     "data": {
      "text/html": [
       "<div>\n",
       "<style scoped>\n",
       "    .dataframe tbody tr th:only-of-type {\n",
       "        vertical-align: middle;\n",
       "    }\n",
       "\n",
       "    .dataframe tbody tr th {\n",
       "        vertical-align: top;\n",
       "    }\n",
       "\n",
       "    .dataframe thead th {\n",
       "        text-align: right;\n",
       "    }\n",
       "</style>\n",
       "<table border=\"1\" class=\"dataframe\">\n",
       "  <thead>\n",
       "    <tr style=\"text-align: right;\">\n",
       "      <th></th>\n",
       "      <th>age</th>\n",
       "      <th>bmi</th>\n",
       "      <th>children</th>\n",
       "      <th>charges</th>\n",
       "    </tr>\n",
       "  </thead>\n",
       "  <tbody>\n",
       "    <tr>\n",
       "      <th>age</th>\n",
       "      <td>1.000000</td>\n",
       "      <td>0.107736</td>\n",
       "      <td>0.056992</td>\n",
       "      <td>0.534392</td>\n",
       "    </tr>\n",
       "    <tr>\n",
       "      <th>bmi</th>\n",
       "      <td>0.107736</td>\n",
       "      <td>1.000000</td>\n",
       "      <td>0.015607</td>\n",
       "      <td>0.119396</td>\n",
       "    </tr>\n",
       "    <tr>\n",
       "      <th>children</th>\n",
       "      <td>0.056992</td>\n",
       "      <td>0.015607</td>\n",
       "      <td>1.000000</td>\n",
       "      <td>0.133339</td>\n",
       "    </tr>\n",
       "    <tr>\n",
       "      <th>charges</th>\n",
       "      <td>0.534392</td>\n",
       "      <td>0.119396</td>\n",
       "      <td>0.133339</td>\n",
       "      <td>1.000000</td>\n",
       "    </tr>\n",
       "  </tbody>\n",
       "</table>\n",
       "</div>"
      ],
      "text/plain": [
       "               age       bmi  children   charges\n",
       "age       1.000000  0.107736  0.056992  0.534392\n",
       "bmi       0.107736  1.000000  0.015607  0.119396\n",
       "children  0.056992  0.015607  1.000000  0.133339\n",
       "charges   0.534392  0.119396  0.133339  1.000000"
      ]
     },
     "execution_count": 320,
     "metadata": {},
     "output_type": "execute_result"
    }
   ],
   "source": [
    "# We check the spearman correlation coefficient between the continuous feature variables with the target variable.\n",
    "df[cont_var].corr(method='spearman')"
   ]
  },
  {
   "cell_type": "markdown",
   "metadata": {},
   "source": [
    "From above we see that *age* has the highest correlation with *charges*, *bmi* and *children* have rather low correlation with *charges*. We will still keep them in the linear regression model, and use the regularization method to avoid overfitting."
   ]
  },
  {
   "cell_type": "code",
   "execution_count": 321,
   "metadata": {},
   "outputs": [
    {
     "name": "stdout",
     "output_type": "stream",
     "text": [
      "The p-value for Kruskal-Wallis H test for gender: 0.7285979314956946\n",
      "The p-value for Kruskal-Wallis H test for smoker: 5.259018267498522e-130\n",
      "The p-value for Kruskal-Wallis H test for region: 0.19232908072121002\n"
     ]
    }
   ],
   "source": [
    "# Now we will test the if there is association between charges and the nominal categorical variables.\n",
    "# We will use the non-parametric Kruskal-Wallis H test\n",
    "# NOTE: One important requirement for Kruskal-Wallis H test is that each segment should have more than 5 data points (check ANOVA demonstration notebook). \n",
    "#       The is indeed true for each norminal variable segments.\n",
    "\n",
    "# Getting data for each normical variable segments\n",
    "#sex\n",
    "female_charges = df[df['sex'] =='female']['charges'].values\n",
    "male_charges = df[df['sex'] =='male']['charges'].values\n",
    "#smoker\n",
    "smoker_charges = df[df['smoker'] =='yes']['charges'].values\n",
    "non_smoker_charges = df[df['smoker'] =='no']['charges'].values\n",
    "#region \n",
    "nw_charges = df[df['region'] =='northwest']['charges'].values\n",
    "ne_charges = df[df['region'] =='northeast']['charges'].values\n",
    "sw_charges = df[df['region'] =='southwest']['charges'].values\n",
    "se_charges = df[df['region'] =='southeast']['charges'].values\n",
    "\n",
    "# Kruskal-Wallis H tests\n",
    "import scipy.stats as stats\n",
    "\n",
    "alpha = 0.1\n",
    "\n",
    "test_stat, p_val = stats.kruskal(female_charges, male_charges)\n",
    "print('The p-value for Kruskal-Wallis H test for gender:', p_val)\n",
    "\n",
    "test_stat, p_val = stats.kruskal(smoker_charges, non_smoker_charges)\n",
    "print('The p-value for Kruskal-Wallis H test for smoker:', p_val)\n",
    "\n",
    "test_stat, p_val = stats.kruskal(nw_charges, ne_charges, sw_charges, se_charges)\n",
    "print('The p-value for Kruskal-Wallis H test for region:', p_val)"
   ]
  },
  {
   "cell_type": "markdown",
   "metadata": {},
   "source": [
    "From the above Kruskal-Wallis H test we can see that:\n",
    "- the p-value for *gender* is very high ($> \\alpha = 0.1$), this implies that statistically the mean of chrarges between female and male are not different. \n",
    "- the p-value for *smoker* is very low ($ << \\alpha = 0.1$), this implies that statistically the mean of chrarges between female and male are different.\n",
    "- the p-value for *region* is at the limit ($ \\approx \\alpha = 0.1$), this implies that statistically the mean of charges between female and male are not very different. Given this is a boundary case, we still keep this variable in for building the model. \n"
   ]
  },
  {
   "cell_type": "markdown",
   "metadata": {},
   "source": [
    "We visually check the difference in histogram of claim charges for the different segments of the nominal feature variables."
   ]
  },
  {
   "cell_type": "code",
   "execution_count": 322,
   "metadata": {},
   "outputs": [
    {
     "data": {
      "image/png": "[encoded data removed]",
      "text/plain": [
       "<Figure size 1500x250 with 3 Axes>"
      ]
     },
     "metadata": {
      "needs_background": "light"
     },
     "output_type": "display_data"
    }
   ],
   "source": [
    "fig = plt.figure(figsize=(15, 2.5), dpi=100)\n",
    "plt.subplot(1,3,1)\n",
    "sns.histplot(data=df, x=\"charges\", hue=\"sex\", element=\"step\")\n",
    "plt.subplot(1,3,2)\n",
    "sns.histplot(data=df, x=\"charges\", hue=\"smoker\", element=\"step\")\n",
    "plt.subplot(1,3,3)\n",
    "sns.histplot(data=df, x=\"charges\", hue=\"region\", element=\"step\")\n",
    "\n",
    "plt.show()"
   ]
  },
  {
   "cell_type": "markdown",
   "metadata": {},
   "source": [
    "- From the plot above, we can also visually see that for *smoker* the claim charges are indeed very different. This is also somewhat true for *region*. However, for *gender*, the histogram do not look very different, we have also confirmed this from the the above statistical test. \n",
    "- As a data scientist it is important that you show both, the statistical test results and visually present you observations.\n",
    "\n",
    "**QUESTION**: Is it ethical to you gender as a feature variable for predicting insurance claim for this usecase? \n",
    "\n"
   ]
  },
  {
   "cell_type": "markdown",
   "metadata": {},
   "source": [
    "##### 1.1c) Checking for multicollinearity\n",
    "- This is a situation when one more than two predictor variables are correlated.\n",
    "- Multicollinearity can inflate the variance of the predictor coefficients, which becomes an issue while interpreting feature contribution to predictions.\n",
    "-  This is important to check multicollinearity for Generalized Linear Models (GLMs), both linear regression and logistic regressions are a part of GLMs.\n",
    "- There are different methods to test for multicolinearity among the predictor/indepdendent variables. \n",
    "- One is to check the pairwise correlation between the variables. We have already seen above that correlation between the continous variables are:\n",
    "    - age <-> bmi = 0.1\n",
    "    - age <-> children = 0.06\n",
    "    - bmi <-> children =  0.016\n",
    "    <br>\n",
    "    All the correlations are pretty low. \n",
    "    - We are still to check the correlation between the other variables: \n",
    "      - age <-> region\n",
    "      - age <-> smoker\n",
    "      - bmi <-> region \n",
    "      - bim <-> smoker\n",
    "      - children <-> region\n",
    "      - children <-> smoker\n",
    "      <br>\n",
    "    - **QUESTION**: Find the collinearity among the rest of the variables mentioned above using appropriate correlation methods. \n",
    "- Just looking into pair wise collinearity can give only a limited view, think of a situation when we can predict age from children + bmi?\n",
    "- The other method can be to check the variation inflation factor (VIF) between the variables, which helps in overcoming the pairwise correlation issue. Some of you have already used this in the Business Statistics course. Further reading: https://online.stat.psu.edu/stat462/node/180/\n",
    "- Another way is to use the regularization method with regression to remove multicollinearity. However, it is best to check for them beforehand.\n",
    "\n",
    "Given we have categorical data, before computing VIF, we need to convert them into number. For that we will use dummy coding and drop the first column. This is because in dummy coding, you can always retrive the first column from the rest.\n"
   ]
  },
  {
   "cell_type": "code",
   "execution_count": 323,
   "metadata": {},
   "outputs": [
    {
     "data": {
      "text/html": [
       "<div>\n",
       "<style scoped>\n",
       "    .dataframe tbody tr th:only-of-type {\n",
       "        vertical-align: middle;\n",
       "    }\n",
       "\n",
       "    .dataframe tbody tr th {\n",
       "        vertical-align: top;\n",
       "    }\n",
       "\n",
       "    .dataframe thead th {\n",
       "        text-align: right;\n",
       "    }\n",
       "</style>\n",
       "<table border=\"1\" class=\"dataframe\">\n",
       "  <thead>\n",
       "    <tr style=\"text-align: right;\">\n",
       "      <th></th>\n",
       "      <th>age</th>\n",
       "      <th>bmi</th>\n",
       "      <th>children</th>\n",
       "      <th>charges</th>\n",
       "      <th>insured</th>\n",
       "      <th>sex_male</th>\n",
       "      <th>smoker_yes</th>\n",
       "      <th>region_northwest</th>\n",
       "      <th>region_southeast</th>\n",
       "      <th>region_southwest</th>\n",
       "    </tr>\n",
       "  </thead>\n",
       "  <tbody>\n",
       "    <tr>\n",
       "      <th>0</th>\n",
       "      <td>19</td>\n",
       "      <td>27.900</td>\n",
       "      <td>0</td>\n",
       "      <td>16884.92400</td>\n",
       "      <td>1</td>\n",
       "      <td>0</td>\n",
       "      <td>1</td>\n",
       "      <td>0</td>\n",
       "      <td>0</td>\n",
       "      <td>1</td>\n",
       "    </tr>\n",
       "    <tr>\n",
       "      <th>1</th>\n",
       "      <td>18</td>\n",
       "      <td>33.770</td>\n",
       "      <td>1</td>\n",
       "      <td>1725.55230</td>\n",
       "      <td>0</td>\n",
       "      <td>1</td>\n",
       "      <td>0</td>\n",
       "      <td>0</td>\n",
       "      <td>1</td>\n",
       "      <td>0</td>\n",
       "    </tr>\n",
       "    <tr>\n",
       "      <th>2</th>\n",
       "      <td>28</td>\n",
       "      <td>33.000</td>\n",
       "      <td>3</td>\n",
       "      <td>4449.46200</td>\n",
       "      <td>0</td>\n",
       "      <td>1</td>\n",
       "      <td>0</td>\n",
       "      <td>0</td>\n",
       "      <td>1</td>\n",
       "      <td>0</td>\n",
       "    </tr>\n",
       "    <tr>\n",
       "      <th>3</th>\n",
       "      <td>33</td>\n",
       "      <td>22.705</td>\n",
       "      <td>0</td>\n",
       "      <td>21984.47061</td>\n",
       "      <td>1</td>\n",
       "      <td>1</td>\n",
       "      <td>0</td>\n",
       "      <td>1</td>\n",
       "      <td>0</td>\n",
       "      <td>0</td>\n",
       "    </tr>\n",
       "    <tr>\n",
       "      <th>4</th>\n",
       "      <td>32</td>\n",
       "      <td>28.880</td>\n",
       "      <td>0</td>\n",
       "      <td>3866.85520</td>\n",
       "      <td>0</td>\n",
       "      <td>1</td>\n",
       "      <td>0</td>\n",
       "      <td>1</td>\n",
       "      <td>0</td>\n",
       "      <td>0</td>\n",
       "    </tr>\n",
       "  </tbody>\n",
       "</table>\n",
       "</div>"
      ],
      "text/plain": [
       "   age     bmi  children      charges  insured  sex_male  smoker_yes  \\\n",
       "0   19  27.900         0  16884.92400        1         0           1   \n",
       "1   18  33.770         1   1725.55230        0         1           0   \n",
       "2   28  33.000         3   4449.46200        0         1           0   \n",
       "3   33  22.705         0  21984.47061        1         1           0   \n",
       "4   32  28.880         0   3866.85520        0         1           0   \n",
       "\n",
       "   region_northwest  region_southeast  region_southwest  \n",
       "0                 0                 0                 1  \n",
       "1                 0                 1                 0  \n",
       "2                 0                 1                 0  \n",
       "3                 1                 0                 0  \n",
       "4                 1                 0                 0  "
      ]
     },
     "execution_count": 323,
     "metadata": {},
     "output_type": "execute_result"
    }
   ],
   "source": [
    "# Getting dummy variables for the categorical variables\n",
    "df_dummies = pd.get_dummies(df, drop_first=True)\n",
    "df_dummies.head()"
   ]
  },
  {
   "cell_type": "code",
   "execution_count": 347,
   "metadata": {},
   "outputs": [
    {
     "data": {
      "text/html": [
       "<div>\n",
       "<style scoped>\n",
       "    .dataframe tbody tr th:only-of-type {\n",
       "        vertical-align: middle;\n",
       "    }\n",
       "\n",
       "    .dataframe tbody tr th {\n",
       "        vertical-align: top;\n",
       "    }\n",
       "\n",
       "    .dataframe thead th {\n",
       "        text-align: right;\n",
       "    }\n",
       "</style>\n",
       "<table border=\"1\" class=\"dataframe\">\n",
       "  <thead>\n",
       "    <tr style=\"text-align: right;\">\n",
       "      <th></th>\n",
       "      <th>feature</th>\n",
       "      <th>vif</th>\n",
       "    </tr>\n",
       "  </thead>\n",
       "  <tbody>\n",
       "    <tr>\n",
       "      <th>4</th>\n",
       "      <td>smoker_yes</td>\n",
       "      <td>1.261233</td>\n",
       "    </tr>\n",
       "    <tr>\n",
       "      <th>2</th>\n",
       "      <td>children</td>\n",
       "      <td>1.809930</td>\n",
       "    </tr>\n",
       "    <tr>\n",
       "      <th>5</th>\n",
       "      <td>region_northwest</td>\n",
       "      <td>1.890281</td>\n",
       "    </tr>\n",
       "    <tr>\n",
       "      <th>7</th>\n",
       "      <td>region_southwest</td>\n",
       "      <td>1.960745</td>\n",
       "    </tr>\n",
       "    <tr>\n",
       "      <th>3</th>\n",
       "      <td>sex_male</td>\n",
       "      <td>2.003185</td>\n",
       "    </tr>\n",
       "    <tr>\n",
       "      <th>6</th>\n",
       "      <td>region_southeast</td>\n",
       "      <td>2.265564</td>\n",
       "    </tr>\n",
       "    <tr>\n",
       "      <th>0</th>\n",
       "      <td>age</td>\n",
       "      <td>7.686965</td>\n",
       "    </tr>\n",
       "    <tr>\n",
       "      <th>1</th>\n",
       "      <td>bmi</td>\n",
       "      <td>11.358443</td>\n",
       "    </tr>\n",
       "  </tbody>\n",
       "</table>\n",
       "</div>"
      ],
      "text/plain": [
       "            feature        vif\n",
       "4        smoker_yes   1.261233\n",
       "2          children   1.809930\n",
       "5  region_northwest   1.890281\n",
       "7  region_southwest   1.960745\n",
       "3          sex_male   2.003185\n",
       "6  region_southeast   2.265564\n",
       "0               age   7.686965\n",
       "1               bmi  11.358443"
      ]
     },
     "execution_count": 347,
     "metadata": {},
     "output_type": "execute_result"
    }
   ],
   "source": [
    "###################\n",
    "## Computing VIF ##\n",
    "###################\n",
    "from statsmodels.stats.outliers_influence import variance_inflation_factor\n",
    "\n",
    "dummy_features = ['age', 'bmi', 'children', 'sex_male','smoker_yes', 'region_northwest', 'region_southeast', 'region_southwest']\n",
    "# creating a dataframe for saving the VIF values\n",
    "df_vif = pd.DataFrame()\n",
    "df_vif[\"feature\"] = dummy_features\n",
    "# calculating VIF for each feature\n",
    "vif = [variance_inflation_factor(df_dummies[dummy_features].values, i) for i in range(len(dummy_features))]\n",
    "df_vif['vif'] = vif\n",
    "\n",
    "df_vif.sort_values(by = 'vif')"
   ]
  },
  {
   "cell_type": "markdown",
   "metadata": {},
   "source": [
    "A rule of thumb is that if  VIF > 10 then multicollinearity is high. A cutoff of 5 is generally used. We see than *bmi* has VIF > 10, also from correlation analysis we saw that bmi <-> charges = 0.12. Based on these two factor we can in-principle drop bmi from our analysis. \n",
    "<br/>\n",
    "There are several ways to select features:\n",
    "- train two models: one without using *bmi*, and another using *bmi*, then see which model performs better for the test dataset. \n",
    "- other way is, if you do not want to throw bmi use the regularization method in linear regression.\n",
    "- another way is to do principal component analysis (PCA) on the dataset and use the most important components as the features (you will learn this later in this course!) \n",
    "\n",
    "*Remember*, there is no one way for ML model building, it is bit of a craft that one needs to learn!"
   ]
  },
  {
   "cell_type": "code",
   "execution_count": 325,
   "metadata": {},
   "outputs": [
    {
     "data": {
      "text/html": [
       "<div>\n",
       "<style scoped>\n",
       "    .dataframe tbody tr th:only-of-type {\n",
       "        vertical-align: middle;\n",
       "    }\n",
       "\n",
       "    .dataframe tbody tr th {\n",
       "        vertical-align: top;\n",
       "    }\n",
       "\n",
       "    .dataframe thead th {\n",
       "        text-align: right;\n",
       "    }\n",
       "</style>\n",
       "<table border=\"1\" class=\"dataframe\">\n",
       "  <thead>\n",
       "    <tr style=\"text-align: right;\">\n",
       "      <th></th>\n",
       "      <th>feature</th>\n",
       "      <th>vif</th>\n",
       "    </tr>\n",
       "  </thead>\n",
       "  <tbody>\n",
       "    <tr>\n",
       "      <th>3</th>\n",
       "      <td>smoker_yes</td>\n",
       "      <td>1.249792</td>\n",
       "    </tr>\n",
       "    <tr>\n",
       "      <th>4</th>\n",
       "      <td>region_northwest</td>\n",
       "      <td>1.706783</td>\n",
       "    </tr>\n",
       "    <tr>\n",
       "      <th>6</th>\n",
       "      <td>region_southwest</td>\n",
       "      <td>1.715200</td>\n",
       "    </tr>\n",
       "    <tr>\n",
       "      <th>1</th>\n",
       "      <td>children</td>\n",
       "      <td>1.762729</td>\n",
       "    </tr>\n",
       "    <tr>\n",
       "      <th>5</th>\n",
       "      <td>region_southeast</td>\n",
       "      <td>1.795873</td>\n",
       "    </tr>\n",
       "    <tr>\n",
       "      <th>2</th>\n",
       "      <td>sex_male</td>\n",
       "      <td>1.884719</td>\n",
       "    </tr>\n",
       "    <tr>\n",
       "      <th>0</th>\n",
       "      <td>age</td>\n",
       "      <td>3.850843</td>\n",
       "    </tr>\n",
       "  </tbody>\n",
       "</table>\n",
       "</div>"
      ],
      "text/plain": [
       "            feature       vif\n",
       "3        smoker_yes  1.249792\n",
       "4  region_northwest  1.706783\n",
       "6  region_southwest  1.715200\n",
       "1          children  1.762729\n",
       "5  region_southeast  1.795873\n",
       "2          sex_male  1.884719\n",
       "0               age  3.850843"
      ]
     },
     "execution_count": 325,
     "metadata": {},
     "output_type": "execute_result"
    }
   ],
   "source": [
    "# Checking how the VIF values become without bmi\n",
    "dummy_features_bmi = ['age', 'children', 'sex_male','smoker_yes', 'region_northwest', 'region_southeast', 'region_southwest']\n",
    "# creating a dataframe for saving the VIF values\n",
    "df_vif = pd.DataFrame()\n",
    "df_vif[\"feature\"] = dummy_features_bmi\n",
    "# calculating VIF for each feature\n",
    "vif = [variance_inflation_factor(df_dummies[dummy_features_bmi].values, i) for i in range(len(dummy_features_bmi))]\n",
    "df_vif['vif'] = vif\n",
    "\n",
    "df_vif.sort_values(by = 'vif')"
   ]
  },
  {
   "cell_type": "code",
   "execution_count": 326,
   "metadata": {},
   "outputs": [
    {
     "data": {
      "text/html": [
       "<div>\n",
       "<style scoped>\n",
       "    .dataframe tbody tr th:only-of-type {\n",
       "        vertical-align: middle;\n",
       "    }\n",
       "\n",
       "    .dataframe tbody tr th {\n",
       "        vertical-align: top;\n",
       "    }\n",
       "\n",
       "    .dataframe thead th {\n",
       "        text-align: right;\n",
       "    }\n",
       "</style>\n",
       "<table border=\"1\" class=\"dataframe\">\n",
       "  <thead>\n",
       "    <tr style=\"text-align: right;\">\n",
       "      <th></th>\n",
       "      <th>feature</th>\n",
       "      <th>vif</th>\n",
       "    </tr>\n",
       "  </thead>\n",
       "  <tbody>\n",
       "    <tr>\n",
       "      <th>2</th>\n",
       "      <td>smoker_yes</td>\n",
       "      <td>1.232968</td>\n",
       "    </tr>\n",
       "    <tr>\n",
       "      <th>3</th>\n",
       "      <td>region_northwest</td>\n",
       "      <td>1.684799</td>\n",
       "    </tr>\n",
       "    <tr>\n",
       "      <th>5</th>\n",
       "      <td>region_southwest</td>\n",
       "      <td>1.691921</td>\n",
       "    </tr>\n",
       "    <tr>\n",
       "      <th>1</th>\n",
       "      <td>children</td>\n",
       "      <td>1.752809</td>\n",
       "    </tr>\n",
       "    <tr>\n",
       "      <th>4</th>\n",
       "      <td>region_southeast</td>\n",
       "      <td>1.765175</td>\n",
       "    </tr>\n",
       "    <tr>\n",
       "      <th>0</th>\n",
       "      <td>age</td>\n",
       "      <td>3.528212</td>\n",
       "    </tr>\n",
       "  </tbody>\n",
       "</table>\n",
       "</div>"
      ],
      "text/plain": [
       "            feature       vif\n",
       "2        smoker_yes  1.232968\n",
       "3  region_northwest  1.684799\n",
       "5  region_southwest  1.691921\n",
       "1          children  1.752809\n",
       "4  region_southeast  1.765175\n",
       "0               age  3.528212"
      ]
     },
     "execution_count": 326,
     "metadata": {},
     "output_type": "execute_result"
    }
   ],
   "source": [
    "# Checking how the VIF values become without gender and bmi\n",
    "dummy_features_sex_bmi = ['age', 'children','smoker_yes', 'region_northwest', 'region_southeast', 'region_southwest']\n",
    "# creating a dataframe for saving the VIF values\n",
    "df_vif = pd.DataFrame()\n",
    "df_vif[\"feature\"] = dummy_features_sex_bmi\n",
    "# calculating VIF for each feature\n",
    "vif = [variance_inflation_factor(df_dummies[dummy_features_sex_bmi].values, i) for i in range(len(dummy_features_sex_bmi))]\n",
    "df_vif['vif'] = vif\n",
    "\n",
    "df_vif.sort_values(by = 'vif')"
   ]
  },
  {
   "cell_type": "markdown",
   "metadata": {},
   "source": [
    "### 1.2 Feature engineering\n",
    "In this step, a datascient needs to perform various tasks such as:\n",
    "- creating new features from existing ones (requires domain knowledge)\n",
    "- scaling the features, remember gradient descent method works well when the features are in the same scale \n",
    "<br/>\n",
    "**IMPORTANT**: It is very important to note that we first do feature scaling on the training dataset and use the parameters from the training dataset to scale the test data.\n",
    "\n",
    "**Train-Test Split**\n",
    "We generally divide the original dataset randomly into 90/10 split (can also be 80/20% or 95/5% split, depending on the size of the original dataset). \n",
    "- *Training dataset*: 90% of the original dataset is used to train the ML model. Traning means estimating the model parameters.\n",
    "- *Test dataset*: 10% of the original dataset is used to test the trained ML model's peformance. This dataset is sacred! You should not do anything with this other that measuring how well the model is performing. Ideally, this dataset is taken out even before doing the EDA part. So, as an ideal data scientist you should also do the same. Do the EDA on the traning dataset only!\n",
    "\n",
    "There is another split done to the Training dataset called the *Validation dataset*. From the Traning dataset a part is kept for hyper-parameter tuning. But that is for the next practical session. For now, we will only focus on training and testing."
   ]
  },
  {
   "cell_type": "code",
   "execution_count": 349,
   "metadata": {},
   "outputs": [],
   "source": [
    "######################\n",
    "## Train-Test split ##\n",
    "######################\n",
    "from sklearn.model_selection import train_test_split\n",
    "df_train, df_test = train_test_split(df_dummies, test_size=0.1, random_state = 1009) \n",
    "\n",
    "# As a standard practice generally ML practitioners rename variable into X_train, X_test, y_train, y_test\n",
    "X_train = df_train[dummy_features] \n",
    "y_train = df_train['charges']\n",
    "X_test = df_test[dummy_features] \n",
    "y_test = df_test['charges']\n",
    "\n",
    "######################################################\n",
    "## Scaling the feature variables using MinMaxScaler ##\n",
    "######################################################\n",
    "from sklearn.preprocessing import MinMaxScaler\n",
    "\n",
    "# define min max scaler instance\n",
    "scaler = MinMaxScaler()\n",
    "# Fitting the MinMaxScaler to X_train\n",
    "scaler.fit(X_train)\n",
    "# Scaling X_train used the fitting MinMax scalar to the traning dataset\n",
    "X_train_scaled = scaler.transform(X_train)\n",
    "# transforming X_train_scaled to pandas dataframe \n",
    "df_X_train_scaled = pd.DataFrame(X_train_scaled, columns=dummy_features)\n",
    "\n",
    "# IMPORTANT: To scale X_test use the MinMaxScalar fitted to the traning dataset. The scaled X_test will only be used for model assessment!\n",
    "# NOTE: DO not fit the MinMaxScaler to the test dataset. If you do then you are using information from the test dataset and will bias your model.\n",
    "# Test datset is sacred, any properties from the test dataset SHOULD NOT be used. \n",
    "X_test_scaled = scaler.transform(X_test)\n",
    "# transforming X_test_scaled to pandas dataframe \n",
    "df_X_test_scaled = pd.DataFrame(X_test_scaled, columns=dummy_features)"
   ]
  },
  {
   "cell_type": "markdown",
   "metadata": {},
   "source": [
    "### 1.3 Model training\n",
    "In this part we will train 3 linear regression models:\n",
    "- Using all the variables (https://scikit-learn.org/stable/modules/generated/sklearn.linear_model.LinearRegression.html)\n",
    "- Not using *gender* and *bmi* as discussed earlier\n",
    "- Using Ridge-regularization method (https://scikit-learn.org/stable/modules/generated/sklearn.linear_model.Ridge.html#sklearn.linear_model.Ridge).\n",
    "  Read the documentation of the model, you will notice it has a vary important parameter called alpha. This is a hyperparameter which can be in principle tuned. But for this lab we will use the default value. What is the default value?"
   ]
  },
  {
   "cell_type": "code",
   "execution_count": 328,
   "metadata": {},
   "outputs": [
    {
     "name": "stdout",
     "output_type": "stream",
     "text": [
      "-------------------------------------------------------------------------\n",
      "Model fitted using all the feature variables\n",
      "R-2 value on training data 0.7529018262634902\n",
      "-------------------------------------------------------------------------\n",
      "-------------------------------------------------------------------------\n",
      "Model fitted using without sex and bmi\n",
      "R-2 value on training data 0.7256711504955784\n",
      "-------------------------------------------------------------------------\n",
      "-------------------------------------------------------------------------\n",
      "Ridge regression model fitted using all the feature variables\n",
      "R-2 value on training data 0.7528499575231878\n",
      "-------------------------------------------------------------------------\n"
     ]
    }
   ],
   "source": [
    "######################################################\n",
    "## Fitting three different Linear regression models ##\n",
    "######################################################\n",
    "from sklearn.linear_model import LinearRegression\n",
    "from sklearn.linear_model import Ridge\n",
    "\n",
    "# The first linear regression model using all the variables\n",
    "regressor1 = LinearRegression().fit(df_X_train_scaled, y_train)\n",
    "print('-------------------------------------------------------------------------')\n",
    "print('Model fitted using all the feature variables') \n",
    "print('R-2 value on training data', regressor1.score(df_X_train_scaled, y_train))\n",
    "print('-------------------------------------------------------------------------')\n",
    "\n",
    "# The second linear regression model leaving our sex and bmi\n",
    "regressor2 = LinearRegression().fit(df_X_train_scaled[dummy_features_sex_bmi], y_train)\n",
    "print('-------------------------------------------------------------------------')\n",
    "print('Model fitted using without sex and bmi') \n",
    "print('R-2 value on training data', regressor2.score(df_X_train_scaled[dummy_features_sex_bmi], y_train))\n",
    "print('-------------------------------------------------------------------------')\n",
    "\n",
    "# The third linear regression model using ridge regression and all the features, alpha = 1 (default)\n",
    "print('-------------------------------------------------------------------------')\n",
    "print('Ridge regression model fitted using all the feature variables') \n",
    "regressor3 = Ridge(alpha = 1).fit(df_X_train_scaled, y_train)\n",
    "print('R-2 value on training data', regressor3.score(df_X_train_scaled, y_train))\n",
    "print('-------------------------------------------------------------------------')\n"
   ]
  },
  {
   "cell_type": "markdown",
   "metadata": {},
   "source": [
    "### 1.4 Model assessment\n",
    "Time to assess which model is performing the best on the sacred/unseen/test dataset!\n",
    "- Mean Absolute Error (MAE): easiest to explain to non technical managers\n",
    "- Mean Squared Error (MSE)\n",
    "- Root Mean Squared Error (RMSEA)\n",
    "- $R^2$ \n",
    "\n",
    "Sklearn has a whole list: https://scikit-learn.org/stable/modules/model_evaluation.html\n",
    "\n",
    "NOTE: In general, we also looks into these metrics value for training data too. The values of these metric are generally better for the training dataset compared to the test dataset, unless we have over-fitted the model. Let us check that."
   ]
  },
  {
   "cell_type": "code",
   "execution_count": 329,
   "metadata": {},
   "outputs": [
    {
     "name": "stdout",
     "output_type": "stream",
     "text": [
      "-------------------------------------------------------------------------\n",
      "Metrics for model 1, linear regression with all variables\n",
      "MAE train: 4179.356, MAE test: 4064.950\n",
      "MSE train: 36648090.940, MSE test: 35294165.911\n",
      "RMSE train: 6053.767, RMSE test: 5940.889\n",
      "R-2 train: 0.753, R-2 test: 0.730\n",
      "-------------------------------------------------------------------------\n",
      "-------------------------------------------------------------------------\n",
      "Metrics for model 2, linear regression wihout sex and bmi\n",
      "MAE train: 4061.281, MAE test: 3895.980\n",
      "MSE train: 40686778.345, MSE test: 37631639.214\n",
      "RMSE train: 6378.619, RMSE test: 6134.463\n",
      "R-2 train: 0.726, R-2-test: 0.712\n",
      "-------------------------------------------------------------------------\n",
      "-------------------------------------------------------------------------\n",
      "Metrics for model 3, Ridge linear regression with all variables\n",
      "MAE train: 4170.995, MAE test: 4055.221\n",
      "MSE train: 36655783.795, MSE test: 35218354.865\n",
      "RMSE train: 6054.402, RMSE test: 5934.505\n",
      "R-2 train: 0.753, R-2-test: 0.730\n",
      "-------------------------------------------------------------------------\n"
     ]
    }
   ],
   "source": [
    "# get the predictions on the train dataset from the 3 models\n",
    "y_train_pred_1 = regressor1.predict(df_X_train_scaled)\n",
    "y_train_pred_2 = regressor2.predict(df_X_train_scaled[dummy_features_sex_bmi])\n",
    "y_train_pred_3 = regressor3.predict(df_X_train_scaled)\n",
    "\n",
    "# get the predictions on the test dataset from the 3 models\n",
    "y_test_pred_1 = regressor1.predict(df_X_test_scaled)\n",
    "y_test_pred_2 = regressor2.predict(df_X_test_scaled[dummy_features_sex_bmi])\n",
    "y_test_pred_3 = regressor3.predict(df_X_test_scaled)\n",
    "\n",
    "# Import all the necessary model evaluation metrics\n",
    "from sklearn.metrics import mean_absolute_error, mean_squared_error, r2_score\n",
    "print('-------------------------------------------------------------------------')\n",
    "print('Metrics for model 1, linear regression with all variables')\n",
    "print('MAE train: %.3f, MAE test: %.3f' % (mean_absolute_error(y_train, y_train_pred_1), mean_absolute_error(y_test, y_test_pred_1)))\n",
    "print('MSE train: %.3f, MSE test: %.3f' % (mean_squared_error(y_train, y_train_pred_1), mean_squared_error(y_test, y_test_pred_1)))\n",
    "print('RMSE train: %.3f, RMSE test: %.3f' % (np.sqrt(mean_squared_error(y_train, y_train_pred_1)), np.sqrt(mean_squared_error(y_test, y_test_pred_1))))\n",
    "print('R-2 train: %.3f, R-2 test: %.3f' % (r2_score(y_train, y_train_pred_1), r2_score(y_test, y_test_pred_1)))\n",
    "print('-------------------------------------------------------------------------')\n",
    "\n",
    "print('-------------------------------------------------------------------------')\n",
    "print('Metrics for model 2, linear regression wihout sex and bmi')\n",
    "print('MAE train: %.3f, MAE test: %.3f' % (mean_absolute_error(y_train, y_train_pred_2), mean_absolute_error(y_test, y_test_pred_2)))\n",
    "print('MSE train: %.3f, MSE test: %.3f' % (mean_squared_error(y_train, y_train_pred_2), mean_squared_error(y_test, y_test_pred_2)))\n",
    "print('RMSE train: %.3f, RMSE test: %.3f' % (np.sqrt(mean_squared_error(y_train, y_train_pred_2)), np.sqrt(mean_squared_error(y_test, y_test_pred_2))))\n",
    "print('R-2 train: %.3f, R-2-test: %.3f' % (r2_score(y_train, y_train_pred_2), r2_score(y_test, y_test_pred_2)))\n",
    "print('-------------------------------------------------------------------------')\n",
    "\n",
    "print('-------------------------------------------------------------------------')\n",
    "print('Metrics for model 3, Ridge linear regression with all variables')\n",
    "print('MAE train: %.3f, MAE test: %.3f' % (mean_absolute_error(y_train, y_train_pred_3), mean_absolute_error(y_test, y_test_pred_3)))\n",
    "print('MSE train: %.3f, MSE test: %.3f' % (mean_squared_error(y_train, y_train_pred_3), mean_squared_error(y_test, y_test_pred_3)))\n",
    "print('RMSE train: %.3f, RMSE test: %.3f' % (np.sqrt(mean_squared_error(y_train, y_train_pred_3)), np.sqrt(mean_squared_error(y_test, y_test_pred_3))))\n",
    "print('R-2 train: %.3f, R-2-test: %.3f' % (r2_score(y_train, y_train_pred_3), r2_score(y_test, y_test_pred_3)))\n",
    "print('-------------------------------------------------------------------------')"
   ]
  },
  {
   "cell_type": "markdown",
   "metadata": {},
   "source": [
    "**QUESTIONS**: \n",
    "- Based on the metrics above which model will you conclude to be best performing and why? \n",
    "- Why is the $R^2$ of model 2 is lower than model 1 and model 2, even though its MAE is lower compared to the other two models?\n",
    "- Can you implement the $adjusted-R^2$ metric? Why is it better than the $R^2$ metric?\n",
    "- Use the StandardScaler from sklearn to scale the data and see how the performance of these models vary."
   ]
  },
  {
   "cell_type": "markdown",
   "metadata": {},
   "source": [
    "## 2.  *Logistic regression* model to predict if an individual will be insured or not"
   ]
  },
  {
   "cell_type": "markdown",
   "metadata": {},
   "source": [
    "### 2.1 Exploratory data analysis\n",
    "Given we have already done some EDA for the linear regression part, we will look into new plots w.r.t the binary classification problem.  "
   ]
  },
  {
   "cell_type": "markdown",
   "metadata": {},
   "source": [
    "#### 2.1a) Basic visual plots\n",
    "Let us check how the distribution of the feature variables look like for insured and not-insured individuals."
   ]
  },
  {
   "cell_type": "code",
   "execution_count": 338,
   "metadata": {},
   "outputs": [
    {
     "data": {
      "image/png": "[encoded data removed]",
      "text/plain": [
       "<Figure size 1500x750 with 7 Axes>"
      ]
     },
     "metadata": {
      "needs_background": "light"
     },
     "output_type": "display_data"
    }
   ],
   "source": [
    "import matplotlib.gridspec as gridspec\n",
    "gs = gridspec.GridSpec(3,3)\n",
    "fig = plt.figure(figsize=(15, 7.5), dpi=100)\n",
    "ax1=fig.add_subplot(gs[0,:])\n",
    "ax2=fig.add_subplot(gs[1,0])\n",
    "ax3=fig.add_subplot(gs[1,1])\n",
    "ax4=fig.add_subplot(gs[1,2])\n",
    "ax5=fig.add_subplot(gs[2,0])\n",
    "ax6=fig.add_subplot(gs[2,1])\n",
    "ax7=fig.add_subplot(gs[2,2])\n",
    "\n",
    "# Histogram plot of charges\n",
    "sns.countplot(data=df, x=\"insured\",  alpha = 0.5 , ax=ax1)\n",
    "ax1.set_title('Insured or not')\n",
    "ax1.set_xlabel(None)\n",
    "\n",
    "# Histogram plot of age\n",
    "sns.histplot(data=df, x=\"age\", hue=\"insured\", element=\"step\", ax=ax2)\n",
    "ax2.set_title('Age (years)')\n",
    "ax2.set_xlabel(None)\n",
    "\n",
    "# Histogram plot of sex\n",
    "sns.countplot(data=df, x =\"sex\", hue = 'insured', alpha = 0.5, ax = ax3)\n",
    "ax3.set_title('Gender')\n",
    "ax3.set_xlabel(None)\n",
    "\n",
    "# Histogram plot of bmi\n",
    "sns.histplot(data=df, x=\"bmi\", hue=\"insured\", element=\"step\", ax=ax4)\n",
    "ax4.set_title('bmi')\n",
    "ax4.set_xlabel(None)\n",
    "\n",
    "# Histogram plot of children\n",
    "sns.histplot(data=df, x=\"children\", hue=\"insured\", element=\"step\", ax=ax5)\n",
    "ax5.set_xlabel('Number of children')\n",
    "ax5.set_xlabel(None)\n",
    "\n",
    "# Histogram plot of smoker\n",
    "sns.countplot(data=df, x =\"smoker\", hue = 'insured', alpha = 0.5, ax = ax6)\n",
    "ax6.set_title('Smoker')\n",
    "ax6.set_xlabel(None)\n",
    "\n",
    "# Histogram plot of region\n",
    "sns.countplot(data=df, x =\"region\", hue = 'insured', alpha = 0.5, ax = ax7)\n",
    "ax7.set_title('Region')\n",
    "ax7.set_xlabel(None)\n",
    "plt.show()"
   ]
  },
  {
   "cell_type": "markdown",
   "metadata": {},
   "source": [
    "From the above following are the visual conclusions:\n",
    "- Number of insured individuals are almost double that non insured.\n",
    "- The distribution of age for insured and non-insured individuals are different. However we need to statistically test using Kruskal-Wallis H-test.\n",
    "- Visually the distributions of gender and bmi are not different for insured and non-insured.\n",
    "- The distributions for smoker and region for insured and non-insured are visiually different but not as much as age.\n",
    "\n",
    "However to conclude on these differences we need to do statistical tests, and find which features are potentially different among insured and non-insured. If the features are significantly different among these two groups, it imples that these features will help in predicting the target variable. "
   ]
  },
  {
   "cell_type": "markdown",
   "metadata": {},
   "source": [
    "##### 2.1b) Correlation analysis\n",
    "- age (continuous) <-> insured (nominal): Kruskal-Wallis H-test\n",
    "- gender (nominal) <-> insured (nominal): Cramer's V test \n",
    "- bmi (continuous) <-> insured (nominal): Kruskal-Wallis H-test\n",
    "- children (continuous) <-> insured (nominal): Kruskal-Wallis H-test\n",
    "- smoker (nominal) <-> insured (nominal): Cramer's V test\n",
    "- region (nominal) <-> insured (nominal): Cramer's V test\n",
    "\n",
    "NOTE: *Cramer's V test* is implemented using $\\chi^2$ value from the contingency table. $\\chi^2$ test which you have learnt in Business Statistics only infers if there is an association between two nomimal variables or not. But Cramer's V test gives the strength of the association and its value lies between [0, 1], where 0 imples no association and 1 indicates a very strong association between the two nominal variables. For further reading:\n",
    "-  Cramer's V test: https://en.wikipedia.org/wiki/Cram%C3%A9r%27s_V\n",
    "- $\\chi^2$ value: https://docs.scipy.org/doc/scipy/reference/generated/scipy.stats.chi2_contingency.html\n"
   ]
  },
  {
   "cell_type": "code",
   "execution_count": 331,
   "metadata": {},
   "outputs": [
    {
     "name": "stdout",
     "output_type": "stream",
     "text": [
      "The p-value for Kruskal-Wallis H test for age with insured: 3.3828899080751016e-121\n",
      "The p-value for Kruskal-Wallis H test for bmi with insured: 0.009579528469942169\n",
      "The p-value for Kruskal-Wallis H test for children with insured: 5.470911278824378e-10\n"
     ]
    }
   ],
   "source": [
    "##########################\n",
    "## Kruskal-Wallis Tests ##\n",
    "##########################\n",
    "import scipy.stats as stats\n",
    "# Fetching the required data for pefroming Kruskal-Wallis Test for age, bmi, and children with insured\n",
    "\n",
    "#age\n",
    "age_insured = df[df['insured'] == 1]['age'].values\n",
    "age_non_insured = df[df['insured'] == 0]['age'].values\n",
    "#bmi\n",
    "bmi_insured = df[df['insured'] == 1]['bmi'].values\n",
    "bmi_non_insured = df[df['insured'] == 0]['bmi'].values\n",
    "#children\n",
    "children_insured = df[df['insured'] == 1]['children'].values\n",
    "children_non_insured = df[df['insured'] == 0]['children'].values\n",
    "\n",
    "## Performing the Kruskal Wallis tests\n",
    "alpha = 0.1\n",
    "test_stat, p_val = stats.kruskal(age_insured, age_non_insured)\n",
    "print('The p-value for Kruskal-Wallis H test for age with insured:', p_val)\n",
    "\n",
    "test_stat, p_val = stats.kruskal(bmi_insured, bmi_non_insured)\n",
    "print('The p-value for Kruskal-Wallis H test for bmi with insured:', p_val)\n",
    "\n",
    "test_stat, p_val = stats.kruskal(children_insured, children_non_insured)\n",
    "print('The p-value for Kruskal-Wallis H test for children with insured:', p_val)"
   ]
  },
  {
   "cell_type": "markdown",
   "metadata": {},
   "source": [
    "From the above results we conclude that $p-value < \\alpha = 0.1$ for all the three tests, hence, the mean age, bmi and children are significantly different for insured and non-insured. Therefore, we will use these three feature variables in the model, unless there is multicollinearity amongst the feature variables."
   ]
  },
  {
   "cell_type": "code",
   "execution_count": 339,
   "metadata": {},
   "outputs": [
    {
     "name": "stdout",
     "output_type": "stream",
     "text": [
      "The Cramér's V value for gender and insured 0.002384220446324639\n",
      "The Cramér's V value for smoker and insured 0.34861909561602433\n",
      "The Cramér's V value for region and insured 0.05784262154495424\n"
     ]
    }
   ],
   "source": [
    "######################\n",
    "## Cramer's V tests ##\n",
    "######################\n",
    "import scipy.stats as stats\n",
    "\n",
    "def cramersV(contingency_table):\n",
    "    '''\n",
    "    Function to compute Cramer's V test statistic.\n",
    "    Parameters:\n",
    "    -----------\n",
    "    contingency_table: numpy array,\n",
    "                       contingency table for the two nomial variables.\n",
    "    \n",
    "    Returns:\n",
    "    --------\n",
    "    Cramer's V value: float\n",
    "    '''\n",
    "    # Comptuing the Chi-squared test statistic, sample size, and degrees of freedom\n",
    "    X2 = stats.chi2_contingency(contingency_table, correction=False)[0]\n",
    "    N = np.sum(contingency_table)\n",
    "    dof = min(contingency_table.shape)-1\n",
    "    # Calculate Cramer's V\n",
    "    cramerV = np.sqrt((X2/N) /dof)\n",
    "\n",
    "    return cramerV\n",
    "\n",
    "\n",
    "# Creating contingency tables for sex, smoker and region with insured, which will be used in the cramersV function defined above.\n",
    "contigency_sex = pd.crosstab(index=df['sex'], columns=df['insured']).values\n",
    "contigency_smoker = pd.crosstab(index=df['smoker'], columns=df['insured']).values\n",
    "contigency_region = pd.crosstab(index=df['region'], columns=df['insured']).values\n",
    "\n",
    "print(\"The Cramér's V value for gender and insured\", cramersV(contigency_sex))\n",
    "print(\"The Cramér's V value for smoker and insured\", cramersV(contigency_smoker))\n",
    "print(\"The Cramér's V value for region and insured\", cramersV(contigency_region))"
   ]
  },
  {
   "cell_type": "markdown",
   "metadata": {},
   "source": [
    "From the Cramer's V values we can conclude that:\n",
    "- gender does not have any association with the target variable, this was also true from the visual inspection done above through the histogram plots.\n",
    "- smoker has a strong association with the target variable\n",
    "- region also have a low association with the target but not as negligible as gender. \n",
    "\n",
    "In conclusion, we will NOT use *sex* as a feature variable in the model. "
   ]
  },
  {
   "cell_type": "markdown",
   "metadata": {},
   "source": [
    "##### 2.1c) Checking for multicollinearity\n",
    "Same as 1.1.c)"
   ]
  },
  {
   "cell_type": "markdown",
   "metadata": {},
   "source": [
    "### 2.2 Feature engineering\n",
    "- We will drop *sex* as a feature variable for the predictive logistic regression model.\n",
    "- We will have to do the same dummy coding as done before. However, as we have already done this in the linear regression part, we will use the result from there. \n",
    "- For completeness, we will again do the train/test split. \n",
    "- This time we will use the Standard Scalar for feature scaling."
   ]
  },
  {
   "cell_type": "code",
   "execution_count": 333,
   "metadata": {},
   "outputs": [],
   "source": [
    "#Feature variable to use, dropping sex\n",
    "dummy_features_sex = ['age', 'bmi', 'children','smoker_yes', 'region_northwest', 'region_southeast', 'region_southwest']\n",
    "\n",
    "######################\n",
    "## Train-Test split ##\n",
    "######################\n",
    "from sklearn.model_selection import train_test_split\n",
    "# 90/10% train/test split \n",
    "# used a different random seed compared to linear regreesion\n",
    "df_train, df_test = train_test_split(df_dummies, test_size=0.1, random_state = 32) \n",
    "\n",
    "# As a standard practice generally ML practitioners rename variable into X_train, X_test, y_train, y_test\n",
    "X_train = df_train[dummy_features_sex] \n",
    "y_train = df_train['insured']\n",
    "X_test = df_test[dummy_features_sex] \n",
    "y_test = df_test['insured']\n",
    "\n",
    "########################################################\n",
    "## Scaling the feature variables using StandardScaler ##\n",
    "########################################################\n",
    "from sklearn.preprocessing import StandardScaler\n",
    "# define standard scaler instance\n",
    "sscaler = StandardScaler()\n",
    "# Fitting the StandardScaler to X_train\n",
    "sscaler.fit(X_train)\n",
    "# Scaling X_train used the fitting Standard scalar to the traning dataset\n",
    "X_train_sscaled = sscaler.transform(X_train)\n",
    "# transforming X_train_sscaled to pandas dataframe \n",
    "df_X_train_sscaled = pd.DataFrame(X_train_sscaled, columns=dummy_features_sex)\n",
    "\n",
    "# IMPORTANT: DO not fit the StandardScaler to the test dataset. If you do then you are using the information from the test dataset and will basing the model.\n",
    "# Test datset is sacred, any properties from the test dataset SHOULD NOT be used. \n",
    "X_test_sscaled = sscaler.transform(X_test)\n",
    "# transforming X_test_scaled to pandas dataframe \n",
    "df_X_test_sscaled = pd.DataFrame(X_test_sscaled, columns=dummy_features_sex)"
   ]
  },
  {
   "cell_type": "code",
   "execution_count": 334,
   "metadata": {},
   "outputs": [
    {
     "data": {
      "text/html": [
       "<div>\n",
       "<style scoped>\n",
       "    .dataframe tbody tr th:only-of-type {\n",
       "        vertical-align: middle;\n",
       "    }\n",
       "\n",
       "    .dataframe tbody tr th {\n",
       "        vertical-align: top;\n",
       "    }\n",
       "\n",
       "    .dataframe thead th {\n",
       "        text-align: right;\n",
       "    }\n",
       "</style>\n",
       "<table border=\"1\" class=\"dataframe\">\n",
       "  <thead>\n",
       "    <tr style=\"text-align: right;\">\n",
       "      <th></th>\n",
       "      <th>age</th>\n",
       "      <th>bmi</th>\n",
       "      <th>children</th>\n",
       "      <th>smoker_yes</th>\n",
       "      <th>region_northwest</th>\n",
       "      <th>region_southeast</th>\n",
       "      <th>region_southwest</th>\n",
       "    </tr>\n",
       "  </thead>\n",
       "  <tbody>\n",
       "    <tr>\n",
       "      <th>0</th>\n",
       "      <td>-0.659200</td>\n",
       "      <td>-1.265498</td>\n",
       "      <td>-0.082575</td>\n",
       "      <td>-0.508034</td>\n",
       "      <td>-0.556884</td>\n",
       "      <td>-0.610624</td>\n",
       "      <td>-0.576072</td>\n",
       "    </tr>\n",
       "    <tr>\n",
       "      <th>1</th>\n",
       "      <td>-0.730767</td>\n",
       "      <td>-0.822729</td>\n",
       "      <td>2.402931</td>\n",
       "      <td>-0.508034</td>\n",
       "      <td>-0.556884</td>\n",
       "      <td>-0.610624</td>\n",
       "      <td>1.735896</td>\n",
       "    </tr>\n",
       "    <tr>\n",
       "      <th>2</th>\n",
       "      <td>1.058406</td>\n",
       "      <td>-1.248311</td>\n",
       "      <td>1.574429</td>\n",
       "      <td>-0.508034</td>\n",
       "      <td>-0.556884</td>\n",
       "      <td>-0.610624</td>\n",
       "      <td>1.735896</td>\n",
       "    </tr>\n",
       "    <tr>\n",
       "      <th>3</th>\n",
       "      <td>-1.518004</td>\n",
       "      <td>1.090753</td>\n",
       "      <td>-0.082575</td>\n",
       "      <td>-0.508034</td>\n",
       "      <td>-0.556884</td>\n",
       "      <td>1.637668</td>\n",
       "      <td>-0.576072</td>\n",
       "    </tr>\n",
       "    <tr>\n",
       "      <th>4</th>\n",
       "      <td>-0.301366</td>\n",
       "      <td>0.604608</td>\n",
       "      <td>1.574429</td>\n",
       "      <td>-0.508034</td>\n",
       "      <td>-0.556884</td>\n",
       "      <td>1.637668</td>\n",
       "      <td>-0.576072</td>\n",
       "    </tr>\n",
       "  </tbody>\n",
       "</table>\n",
       "</div>"
      ],
      "text/plain": [
       "        age       bmi  children  smoker_yes  region_northwest  \\\n",
       "0 -0.659200 -1.265498 -0.082575   -0.508034         -0.556884   \n",
       "1 -0.730767 -0.822729  2.402931   -0.508034         -0.556884   \n",
       "2  1.058406 -1.248311  1.574429   -0.508034         -0.556884   \n",
       "3 -1.518004  1.090753 -0.082575   -0.508034         -0.556884   \n",
       "4 -0.301366  0.604608  1.574429   -0.508034         -0.556884   \n",
       "\n",
       "   region_southeast  region_southwest  \n",
       "0         -0.610624         -0.576072  \n",
       "1         -0.610624          1.735896  \n",
       "2         -0.610624          1.735896  \n",
       "3          1.637668         -0.576072  \n",
       "4          1.637668         -0.576072  "
      ]
     },
     "execution_count": 334,
     "metadata": {},
     "output_type": "execute_result"
    }
   ],
   "source": [
    "df_X_train_sscaled.head()"
   ]
  },
  {
   "cell_type": "markdown",
   "metadata": {},
   "source": [
    "### 2.3 Model training\n",
    "In this part we will train 2 logistic regression models:\n",
    "- Not using *sex* as discussed earlier (https://scikit-learn.org/stable/modules/generated/sklearn.linear_model.LogisticRegression.html)\n",
    " Read the documentation of the model, you will notice that L2 (Ridge) regularization is the default choice. What is the hyperparameter related to the strength of the regularization term? What is the default value?\n",
    "- Using Ridge-regularization (L2 regularization) method "
   ]
  },
  {
   "cell_type": "code",
   "execution_count": 335,
   "metadata": {},
   "outputs": [
    {
     "name": "stdout",
     "output_type": "stream",
     "text": [
      "-------------------------------------------------------------------------\n",
      "Non-regularized logistic regression model fitting\n",
      "Mean-Accuracy on training data 0.9368770764119602\n",
      "-------------------------------------------------------------------------\n",
      "-------------------------------------------------------------------------\n",
      "Regularized logistic regression model fitting\n",
      "Mean-Accuracy on training data 0.9335548172757475\n",
      "-------------------------------------------------------------------------\n"
     ]
    }
   ],
   "source": [
    "#############################################\n",
    "## Fitting the  Logistic regression models ##\n",
    "#############################################\n",
    "from sklearn.linear_model import LogisticRegression\n",
    "\n",
    "# The first logistic regression model without gender\n",
    "log_regressor1 = LogisticRegression(penalty='none').fit(df_X_train_sscaled, y_train)\n",
    "print('-------------------------------------------------------------------------')\n",
    "print('Non-regularized logistic regression model fitting') \n",
    "print('Mean-Accuracy on training data', log_regressor1.score(df_X_train_sscaled, y_train))\n",
    "print('-------------------------------------------------------------------------')\n",
    "\n",
    "# The second  l2-regularized logistic regression model without gender\n",
    "# C is the inverse of strength of regularization\n",
    "log_regressor2 = LogisticRegression(penalty='l2', C = 0.2).fit(df_X_train_sscaled, y_train)\n",
    "print('-------------------------------------------------------------------------')\n",
    "print('Regularized logistic regression model fitting') \n",
    "print('Mean-Accuracy on training data', log_regressor2.score(df_X_train_sscaled, y_train))\n",
    "print('-------------------------------------------------------------------------')"
   ]
  },
  {
   "cell_type": "markdown",
   "metadata": {},
   "source": [
    "### 2.4 Model assessment\n",
    "Time to assess how the binary classifer logistic regression model is performing on the sacred/unseen/test dataset!\n",
    "- Accuracy\n",
    "- F1-score\n",
    "- AUC-ROC\n",
    "\n",
    "Sklearn has a whole list: https://scikit-learn.org/stable/modules/model_evaluation.html"
   ]
  },
  {
   "cell_type": "code",
   "execution_count": 336,
   "metadata": {},
   "outputs": [
    {
     "name": "stdout",
     "output_type": "stream",
     "text": [
      "-------------------------------------------------------------------------\n",
      "Metrics for model 1, non-regularlized logistic regression without gender\n",
      "Accuracy train: 0.937, Accuracy test: 0.933\n",
      "F1-score train: 0.953, F1-score test: 0.951\n",
      "AUC-ROC train: 0.928, AUC-ROC test: 0.931\n",
      "-------------------------------------------------------------------------\n",
      "-------------------------------------------------------------------------\n",
      "Metrics for model 2, L2-regularlized logistic regression without gender\n",
      "Accuracy train: 0.934, Accuracy test: 0.925\n",
      "F1-score train: 0.951, F1-score test: 0.946\n",
      "AUC-ROC train: 0.923, AUC-ROC test: 0.918\n",
      "-------------------------------------------------------------------------\n",
      "-------------------------------------------------------------------------\n"
     ]
    }
   ],
   "source": [
    "# get the predictions on the test dataset from the 2 models\n",
    "y_train_pred_log1 = log_regressor1.predict(df_X_train_sscaled)\n",
    "y_train_pred_log2 = log_regressor2.predict(df_X_train_sscaled)\n",
    "\n",
    "\n",
    "# get the predictions on the test dataset from the 2 models\n",
    "y_test_pred_log1 = log_regressor1.predict(df_X_test_sscaled)\n",
    "y_test_pred_log2 = log_regressor2.predict(df_X_test_sscaled)\n",
    "\n",
    "# Import all the necessary model evaluation metrics\n",
    "from sklearn.metrics import accuracy_score, f1_score, roc_auc_score\n",
    "print('-------------------------------------------------------------------------')\n",
    "print('Metrics for model 1, non-regularlized logistic regression without gender')\n",
    "print('Accuracy train: %.3f, Accuracy test: %.3f' % (accuracy_score(y_train, y_train_pred_log1), accuracy_score(y_test, y_test_pred_log1)))\n",
    "print('F1-score train: %.3f, F1-score test: %.3f' % (f1_score(y_train, y_train_pred_log1), f1_score(y_test, y_test_pred_log1)))\n",
    "print('AUC-ROC train: %.3f, AUC-ROC test: %.3f' % (roc_auc_score(y_train, y_train_pred_log1), roc_auc_score(y_test, y_test_pred_log1)))\n",
    "print('-------------------------------------------------------------------------')\n",
    "\n",
    "print('-------------------------------------------------------------------------')\n",
    "print('Metrics for model 2, L2-regularlized logistic regression without gender')\n",
    "print('Accuracy train: %.3f, Accuracy test: %.3f' % (accuracy_score(y_train, y_train_pred_log2), accuracy_score(y_test, y_test_pred_log2)))\n",
    "print('F1-score train: %.3f, F1-score test: %.3f' % (f1_score(y_train, y_train_pred_log2), f1_score(y_test, y_test_pred_log2)))\n",
    "print('AUC-ROC train: %.3f, AUC-ROC test: %.3f' % (roc_auc_score(y_train, y_train_pred_log2), roc_auc_score(y_test, y_test_pred_log2)))\n",
    "print('-------------------------------------------------------------------------')\n",
    "print('-------------------------------------------------------------------------')"
   ]
  },
  {
   "cell_type": "markdown",
   "metadata": {},
   "source": [
    "QUESTIONS:\n",
    "- Based on the metrics above which model will you conclude to be best performing and why? \n",
    "- What happens when you also add the *sex* variable to the model fitting? Do you get better model performance?\n",
    "- Calculate the precision and recall metrics for the two models.\n",
    "- What happens when you change the regularization strength, i.e, the value of C?"
   ]
  }
 ],
 "metadata": {
  "kernelspec": {
   "display_name": "ddb_ai_tutorial",
   "language": "python",
   "name": "python3"
  },
  "language_info": {
   "codemirror_mode": {
    "name": "ipython",
    "version": 3
   },
   "file_extension": ".py",
   "mimetype": "text/x-python",
   "name": "python",
   "nbconvert_exporter": "python",
   "pygments_lexer": "ipython3",
   "version": "3.13.0"
  },
  "orig_nbformat": 4
 },
 "nbformat": 4,
 "nbformat_minor": 2
}
